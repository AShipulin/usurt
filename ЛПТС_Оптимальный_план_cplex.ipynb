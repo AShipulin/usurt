{
  "nbformat": 4,
  "nbformat_minor": 0,
  "metadata": {
    "colab": {
      "provenance": [],
      "authorship_tag": "ABX9TyO1RWgiWcmq6eBSfz/5xL38",
      "include_colab_link": true
    },
    "kernelspec": {
      "name": "python3",
      "display_name": "Python 3"
    },
    "language_info": {
      "name": "python"
    }
  },
  "cells": [
    {
      "cell_type": "markdown",
      "metadata": {
        "id": "view-in-github",
        "colab_type": "text"
      },
      "source": [
        "<a href=\"https://colab.research.google.com/github/AShipulin/usurt/blob/main/%D0%9B%D0%9F%D0%A2%D0%A1_%D0%9E%D0%BF%D1%82%D0%B8%D0%BC%D0%B0%D0%BB%D1%8C%D0%BD%D1%8B%D0%B9_%D0%BF%D0%BB%D0%B0%D0%BD_cplex.ipynb\" target=\"_parent\"><img src=\"https://colab.research.google.com/assets/colab-badge.svg\" alt=\"Open In Colab\"/></a>"
      ]
    },
    {
      "cell_type": "code",
      "source": [
        "pip install cplex docplex"
      ],
      "metadata": {
        "colab": {
          "base_uri": "https://localhost:8080/"
        },
        "id": "wE99_PHlz0p3",
        "outputId": "e07b1d86-dac4-4941-ccd8-026ff92db987"
      },
      "execution_count": null,
      "outputs": [
        {
          "output_type": "stream",
          "name": "stdout",
          "text": [
            "Collecting cplex\n",
            "  Downloading cplex-22.1.2.0-cp311-cp311-manylinux2014_x86_64.whl.metadata (56 kB)\n",
            "\u001b[2K     \u001b[90m━━━━━━━━━━━━━━━━━━━━━━━━━━━━━━━━━━━━━━━━\u001b[0m \u001b[32m57.0/57.0 kB\u001b[0m \u001b[31m1.4 MB/s\u001b[0m eta \u001b[36m0:00:00\u001b[0m\n",
            "\u001b[?25hCollecting docplex\n",
            "  Downloading docplex-2.29.245.tar.gz (645 kB)\n",
            "\u001b[2K     \u001b[90m━━━━━━━━━━━━━━━━━━━━━━━━━━━━━━━━━━━━━━\u001b[0m \u001b[32m645.9/645.9 kB\u001b[0m \u001b[31m14.2 MB/s\u001b[0m eta \u001b[36m0:00:00\u001b[0m\n",
            "\u001b[?25h  Installing build dependencies ... \u001b[?25l\u001b[?25hdone\n",
            "  Getting requirements to build wheel ... \u001b[?25l\u001b[?25hdone\n",
            "  Installing backend dependencies ... \u001b[?25l\u001b[?25hdone\n",
            "  Preparing metadata (pyproject.toml) ... \u001b[?25l\u001b[?25hdone\n",
            "Requirement already satisfied: six in /usr/local/lib/python3.11/dist-packages (from docplex) (1.17.0)\n",
            "Downloading cplex-22.1.2.0-cp311-cp311-manylinux2014_x86_64.whl (44.3 MB)\n",
            "\u001b[2K   \u001b[90m━━━━━━━━━━━━━━━━━━━━━━━━━━━━━━━━━━━━━━━━\u001b[0m \u001b[32m44.3/44.3 MB\u001b[0m \u001b[31m13.6 MB/s\u001b[0m eta \u001b[36m0:00:00\u001b[0m\n",
            "\u001b[?25hBuilding wheels for collected packages: docplex\n",
            "  Building wheel for docplex (pyproject.toml) ... \u001b[?25l\u001b[?25hdone\n",
            "  Created wheel for docplex: filename=docplex-2.29.245-py3-none-any.whl size=685439 sha256=08722ce3e5d3c8608c500a89fd6d38d4854fdc50f5adee7adaf438ed39cd4589\n",
            "  Stored in directory: /root/.cache/pip/wheels/be/37/0a/5f5f9ed14d637a664ad676493d55654f655a099c7016808739\n",
            "Successfully built docplex\n",
            "Installing collected packages: docplex, cplex\n",
            "Successfully installed cplex-22.1.2.0 docplex-2.29.245\n"
          ]
        }
      ]
    },
    {
      "cell_type": "code",
      "execution_count": null,
      "metadata": {
        "colab": {
          "base_uri": "https://localhost:8080/"
        },
        "id": "iqLfi922zXf8",
        "outputId": "c40a1934-ab87-4859-f518-7f2160d58042"
      },
      "outputs": [
        {
          "output_type": "stream",
          "name": "stdout",
          "text": [
            "Статус решения: integer optimal solution\n",
            "Общая стоимость: 383\n",
            "\n",
            "Оптимальный план перевозок:\n",
            "Из a1 в b1: 8 ед. (стоимость: 56)\n",
            "Из a1 в b2: 2 ед. (стоимость: 18)\n",
            "Из a2 в b2: 11 ед. (стоимость: 165)\n",
            "Из a2 в b3: 9 ед. (стоимость: 144)\n",
            "\n",
            "Дополнительная информация:\n",
            "Время решения: 0.00 сек\n",
            "Количество итераций: 0\n"
          ]
        }
      ],
      "source": [
        "from docplex.mp.model import Model\n",
        "\n",
        "# Создаем модель\n",
        "model = Model(name='Transportation_Problem')\n",
        "\n",
        "# Данные задачи\n",
        "suppliers = ['a1', 'a2']\n",
        "supply = {'a1': 10, 'a2': 20}\n",
        "\n",
        "consumers = ['b1', 'b2', 'b3']\n",
        "demand = {'b1': 8, 'b2': 13, 'b3': 9}\n",
        "\n",
        "costs = {\n",
        "    ('a1', 'b1'): 7,\n",
        "    ('a1', 'b2'): 9,\n",
        "    ('a1', 'b3'): 21,\n",
        "    ('a2', 'b1'): 20,\n",
        "    ('a2', 'b2'): 15,\n",
        "    ('a2', 'b3'): 16\n",
        "}\n",
        "\n",
        "# Создаем переменные решения\n",
        "x = {(s, c): model.integer_var(name=f'x_{s}_{c}', lb=0)\n",
        "      for s in suppliers for c in consumers}\n",
        "\n",
        "# Добавляем ограничения по запасам\n",
        "for s in suppliers:\n",
        "    model.add_constraint(\n",
        "        sum(x[(s, c)] for c in consumers) <= supply[s],\n",
        "        ctname=f'supply_{s}'\n",
        "    )\n",
        "\n",
        "# Добавляем ограничения по спросу\n",
        "for c in consumers:\n",
        "    model.add_constraint(\n",
        "        sum(x[(s, c)] for s in suppliers) >= demand[c],\n",
        "        ctname=f'demand_{c}'\n",
        "    )\n",
        "\n",
        "# Определяем целевую функцию (минимизация стоимости)\n",
        "total_cost = sum(x[(s, c)] * costs[(s, c)]\n",
        "              for s in suppliers for c in consumers)\n",
        "model.minimize(total_cost)\n",
        "\n",
        "# Решаем задачу\n",
        "solution = model.solve()\n",
        "\n",
        "# Выводим результаты\n",
        "if solution:\n",
        "    print(\"Статус решения:\", model.solve_details.status)\n",
        "    print(f\"Общая стоимость: {solution.get_objective_value():.0f}\\n\")\n",
        "\n",
        "    print(\"Оптимальный план перевозок:\")\n",
        "    for s in suppliers:\n",
        "        for c in consumers:\n",
        "            val = solution.get_value(x[(s, c)])\n",
        "            if val > 0:\n",
        "                print(f\"Из {s} в {c}: {val:.0f} ед. (стоимость: {costs[(s, c)]*val:.0f})\")\n",
        "\n",
        "    # Дополнительная информация о решении\n",
        "    print(\"\\nДополнительная информация:\")\n",
        "    print(f\"Время решения: {model.solve_details.time:.2f} сек\")\n",
        "    print(f\"Количество итераций: {model.solve_details.nb_iterations}\")\n",
        "else:\n",
        "    print(\"Решение не найдено\")"
      ]
    },
    {
      "cell_type": "code",
      "source": [],
      "metadata": {
        "id": "PFdhcRL2ziDh"
      },
      "execution_count": null,
      "outputs": []
    }
  ]
}