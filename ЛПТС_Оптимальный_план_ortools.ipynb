{
  "nbformat": 4,
  "nbformat_minor": 0,
  "metadata": {
    "colab": {
      "provenance": [],
      "authorship_tag": "ABX9TyP9oQuL9Ou5Cbgf1OVbTDmI",
      "include_colab_link": true
    },
    "kernelspec": {
      "name": "python3",
      "display_name": "Python 3"
    },
    "language_info": {
      "name": "python"
    }
  },
  "cells": [
    {
      "cell_type": "markdown",
      "metadata": {
        "id": "view-in-github",
        "colab_type": "text"
      },
      "source": [
        "<a href=\"https://colab.research.google.com/github/AShipulin/usurt/blob/main/%D0%9B%D0%9F%D0%A2%D0%A1_%D0%9E%D0%BF%D1%82%D0%B8%D0%BC%D0%B0%D0%BB%D1%8C%D0%BD%D1%8B%D0%B9_%D0%BF%D0%BB%D0%B0%D0%BD_ortools.ipynb\" target=\"_parent\"><img src=\"https://colab.research.google.com/assets/colab-badge.svg\" alt=\"Open In Colab\"/></a>"
      ]
    },
    {
      "cell_type": "code",
      "source": [
        "pip install ortools"
      ],
      "metadata": {
        "colab": {
          "base_uri": "https://localhost:8080/"
        },
        "id": "wE99_PHlz0p3",
        "outputId": "3170e850-8245-459a-f775-2225697adfa0"
      },
      "execution_count": null,
      "outputs": [
        {
          "output_type": "stream",
          "name": "stdout",
          "text": [
            "Collecting ortools\n",
            "  Downloading ortools-9.12.4544-cp311-cp311-manylinux_2_27_x86_64.manylinux_2_28_x86_64.whl.metadata (3.3 kB)\n",
            "Collecting absl-py>=2.0.0 (from ortools)\n",
            "  Downloading absl_py-2.2.2-py3-none-any.whl.metadata (2.6 kB)\n",
            "Requirement already satisfied: numpy>=1.13.3 in /usr/local/lib/python3.11/dist-packages (from ortools) (2.0.2)\n",
            "Requirement already satisfied: pandas>=2.0.0 in /usr/local/lib/python3.11/dist-packages (from ortools) (2.2.2)\n",
            "Requirement already satisfied: protobuf<5.30,>=5.29.3 in /usr/local/lib/python3.11/dist-packages (from ortools) (5.29.4)\n",
            "Requirement already satisfied: immutabledict>=3.0.0 in /usr/local/lib/python3.11/dist-packages (from ortools) (4.2.1)\n",
            "Requirement already satisfied: python-dateutil>=2.8.2 in /usr/local/lib/python3.11/dist-packages (from pandas>=2.0.0->ortools) (2.9.0.post0)\n",
            "Requirement already satisfied: pytz>=2020.1 in /usr/local/lib/python3.11/dist-packages (from pandas>=2.0.0->ortools) (2025.2)\n",
            "Requirement already satisfied: tzdata>=2022.7 in /usr/local/lib/python3.11/dist-packages (from pandas>=2.0.0->ortools) (2025.2)\n",
            "Requirement already satisfied: six>=1.5 in /usr/local/lib/python3.11/dist-packages (from python-dateutil>=2.8.2->pandas>=2.0.0->ortools) (1.17.0)\n",
            "Downloading ortools-9.12.4544-cp311-cp311-manylinux_2_27_x86_64.manylinux_2_28_x86_64.whl (24.9 MB)\n",
            "\u001b[2K   \u001b[90m━━━━━━━━━━━━━━━━━━━━━━━━━━━━━━━━━━━━━━━━\u001b[0m \u001b[32m24.9/24.9 MB\u001b[0m \u001b[31m75.7 MB/s\u001b[0m eta \u001b[36m0:00:00\u001b[0m\n",
            "\u001b[?25hDownloading absl_py-2.2.2-py3-none-any.whl (135 kB)\n",
            "\u001b[2K   \u001b[90m━━━━━━━━━━━━━━━━━━━━━━━━━━━━━━━━━━━━━━━━\u001b[0m \u001b[32m135.6/135.6 kB\u001b[0m \u001b[31m10.1 MB/s\u001b[0m eta \u001b[36m0:00:00\u001b[0m\n",
            "\u001b[?25hInstalling collected packages: absl-py, ortools\n",
            "  Attempting uninstall: absl-py\n",
            "    Found existing installation: absl-py 1.4.0\n",
            "    Uninstalling absl-py-1.4.0:\n",
            "      Successfully uninstalled absl-py-1.4.0\n",
            "Successfully installed absl-py-2.2.2 ortools-9.12.4544\n"
          ]
        }
      ]
    },
    {
      "cell_type": "code",
      "execution_count": null,
      "metadata": {
        "colab": {
          "base_uri": "https://localhost:8080/"
        },
        "id": "iqLfi922zXf8",
        "outputId": "f9b35fac-9c55-43b4-ba21-094a913670cb"
      },
      "outputs": [
        {
          "output_type": "stream",
          "name": "stdout",
          "text": [
            "Оптимальное решение найдено!\n",
            "Общая стоимость: 383.0\n",
            "\n",
            "План перевозок:\n",
            "Из a1 в b1: 8.0 ед.\n",
            "Из a1 в b2: 2.0 ед.\n",
            "Из a2 в b2: 11.0 ед.\n",
            "Из a2 в b3: 9.0 ед.\n"
          ]
        }
      ],
      "source": [
        "from ortools.linear_solver import pywraplp\n",
        "\n",
        "# Создаем решатель\n",
        "solver = pywraplp.Solver.CreateSolver('SCIP')\n",
        "\n",
        "# Данные задачи\n",
        "suppliers = ['a1', 'a2']\n",
        "supply = {'a1': 10, 'a2': 20}\n",
        "\n",
        "consumers = ['b1', 'b2', 'b3']\n",
        "demand = {'b1': 8, 'b2': 13, 'b3': 9}\n",
        "\n",
        "costs = {\n",
        "    ('a1', 'b1'): 7,\n",
        "    ('a1', 'b2'): 9,\n",
        "    ('a1', 'b3'): 21,\n",
        "    ('a2', 'b1'): 20,\n",
        "    ('a2', 'b2'): 15,\n",
        "    ('a2', 'b3'): 16\n",
        "}\n",
        "\n",
        "# Создаем переменные\n",
        "x = {}\n",
        "for s in suppliers:\n",
        "    for c in consumers:\n",
        "        x[(s, c)] = solver.IntVar(0, solver.infinity(), f'x_{s}_{c}')\n",
        "\n",
        "# Ограничения по запасам\n",
        "for s in suppliers:\n",
        "    solver.Add(\n",
        "        sum(x[(s, c)] for c in consumers) <= supply[s],\n",
        "        f'Supply_{s}'\n",
        "    )\n",
        "\n",
        "# Ограничения по спросу\n",
        "for c in consumers:\n",
        "    solver.Add(\n",
        "        sum(x[(s, c)] for s in suppliers) >= demand[c],\n",
        "        f'Demand_{c}'\n",
        "    )\n",
        "\n",
        "# Целевая функция: минимизация стоимости\n",
        "solver.Minimize(\n",
        "    sum(x[(s, c)] * costs[(s, c)] for s in suppliers for c in consumers)\n",
        ")\n",
        "\n",
        "# Решаем задачу\n",
        "status = solver.Solve()\n",
        "\n",
        "# Вывод результатов\n",
        "if status == pywraplp.Solver.OPTIMAL:\n",
        "    print('Оптимальное решение найдено!')\n",
        "    print(f'Общая стоимость: {solver.Objective().Value()}\\n')\n",
        "\n",
        "    print('План перевозок:')\n",
        "    for s in suppliers:\n",
        "        for c in consumers:\n",
        "            if x[(s, c)].solution_value() > 0:\n",
        "                print(f'Из {s} в {c}: {x[(s, c)].solution_value()} ед.')\n",
        "else:\n",
        "    print('Решение не найдено.')"
      ]
    },
    {
      "cell_type": "code",
      "source": [],
      "metadata": {
        "id": "PFdhcRL2ziDh"
      },
      "execution_count": null,
      "outputs": []
    }
  ]
}